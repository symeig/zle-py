{
 "cells": [
  {
   "cell_type": "code",
   "execution_count": 1,
   "id": "fcca97c5",
   "metadata": {},
   "outputs": [],
   "source": [
    "from gen import *"
   ]
  },
  {
   "cell_type": "code",
   "execution_count": 34,
   "id": "cd82c75f",
   "metadata": {},
   "outputs": [
    {
     "name": "stdout",
     "output_type": "stream",
     "text": [
      "[0 1 1 2 1 3 2 4 3 5 6 2 6 4 0 3 7 8]\n"
     ]
    }
   ],
   "source": [
    "#(1) define partial order (example w/ 2 disconnected components)\n",
    "po = np.array([1,2,2,3,2,4,3,5,4,6,7,3, 7,5,1,4,  8,9])-1 #10,11\n",
    "print(po)"
   ]
  },
  {
   "cell_type": "code",
   "execution_count": 2,
   "id": "5d2bc10d",
   "metadata": {},
   "outputs": [
    {
     "name": "stdout",
     "output_type": "stream",
     "text": [
      "[0 2 0 3 1 3 1 4 2 4]\n"
     ]
    }
   ],
   "source": [
    "#n=8 partial order\n",
    "po=np.array([1, 3, 1, 4, 2, 4, 2, 5, 3, 5])-1\n",
    "print(po)"
   ]
  },
  {
   "cell_type": "code",
   "execution_count": 3,
   "id": "0662e02b-61e8-4305-ac82-ff6ae5774402",
   "metadata": {},
   "outputs": [
    {
     "data": {
      "image/png": "[encoded data removed]",
      "text/plain": [
       "<Figure size 500x300 with 1 Axes>"
      ]
     },
     "metadata": {},
     "output_type": "display_data"
    }
   ],
   "source": [
    "#visualize (optional)\n",
    "graph = edges_to_adjacency_list(po)\n",
    "graph_comps = [edges_to_adjacency_list(i) for i in po_groups(po)] #list(map(lambda i: edges_to_adjacency_list(i), po_sorted))\n",
    "visualize_graph(graph, (5,3))"
   ]
  },
  {
   "cell_type": "code",
   "execution_count": 14,
   "id": "832af1fc-42b2-40cb-a955-7e55999ec853",
   "metadata": {},
   "outputs": [
    {
     "name": "stdout",
     "output_type": "stream",
     "text": [
      "group nodes:  [array([0, 1, 2, 3, 4])]\n",
      "0\n",
      "chains [[0], [1], [2], [3], [4]]\n",
      "legal value factors\n",
      "[[[0, 1, 2, 3, 4], [0, 1, 2, 4, 3], [0, 1, 3, 2, 4], [0, 2, 1, 3, 4], [0, 2, 1, 4, 3], [1, 0, 2, 3, 4], [1, 0, 2, 4, 3], [1, 0, 3, 2, 4]]] \n",
      "\n",
      "canonical perms  8\n",
      "fixed-order (1..n) permutations:  [[0, 1, 2, 3, 4], [0, 1, 2, 4, 3], [0, 1, 3, 2, 4], [0, 2, 1, 3, 4], [0, 2, 1, 4, 3], [1, 0, 2, 3, 4], [1, 0, 2, 4, 3], [1, 0, 3, 2, 4]]\n",
      "[0 1 2 3 4]\n",
      "subsets:  1 [0 1 2 3 4]\n",
      "products:  1 [[0, 1, 2, 3, 4]]\n",
      "remainder:  1   [[]]\n",
      "composite:  1   [[0, 1, 2, 3, 4]] \n",
      "\n",
      "node labels (up to combination):  [[0, 1, 2, 3, 4]]\n"
     ]
    }
   ],
   "source": [
    "#I think make this into a class w/ phi below\n",
    "group_pos = po_groups(po)\n",
    "group_nodes =[np.sort(np.unique(i)) for i in group_pos] #segment fixed node order\n",
    "nodes = np.arange(np.max(po)+1)\n",
    "\n",
    "#canonical perms is the list of permutations allowed for the fixed node labeling 0...n.\n",
    "canonical_perms = fixed_perms(group_pos, group_nodes)\n",
    "print(\"fixed-order (1..n) permutations: \", canonical_perms)\n",
    "\n",
    "#composite is the list of possible node labelings (up to combination),\n",
    "combination_labels = comb_labelings(nodes, group_nodes)\n",
    "print(\"node labels (up to combination): \", combination_labels)"
   ]
  },
  {
   "cell_type": "code",
   "execution_count": 4,
   "id": "95b9f812-a5c2-40b6-aaf5-6befadb279f7",
   "metadata": {},
   "outputs": [
    {
     "name": "stdout",
     "output_type": "stream",
     "text": [
      "group nodes:  [array([0, 1, 2, 3, 4])]\n",
      "0\n",
      "chains [[0], [1], [2], [3], [4]]\n",
      "legal value factors\n",
      "[[[0, 1, 2, 3, 4], [0, 1, 2, 4, 3], [0, 1, 3, 2, 4], [0, 2, 1, 3, 4], [0, 2, 1, 4, 3], [1, 0, 2, 3, 4], [1, 0, 2, 4, 3], [1, 0, 3, 2, 4]]] \n",
      "\n",
      "canonical perms  8\n",
      "fixed-order (1..n) permutations:  [[0, 1, 2, 3, 4], [0, 1, 2, 4, 3], [0, 1, 3, 2, 4], [0, 2, 1, 3, 4], [0, 2, 1, 4, 3], [1, 0, 2, 3, 4], [1, 0, 2, 4, 3], [1, 0, 3, 2, 4]]\n",
      "[0 1 2 3 4]\n",
      "subsets:  1 [0 1 2 3 4]\n",
      "products:  1 [[0, 1, 2, 3, 4]]\n",
      "remainder:  1   [[]]\n",
      "composite:  1   [[0, 1, 2, 3, 4]] \n",
      "\n",
      "node labels (up to combination):  [[0, 1, 2, 3, 4]]\n"
     ]
    },
    {
     "data": {
      "text/plain": [
       "[array([0, 1, 2, 3, 4]),\n",
       " array([0, 1, 2, 4, 3]),\n",
       " array([0, 1, 3, 2, 4]),\n",
       " array([0, 2, 1, 3, 4]),\n",
       " array([0, 2, 1, 4, 3]),\n",
       " array([1, 0, 2, 3, 4]),\n",
       " array([1, 0, 2, 4, 3]),\n",
       " array([1, 0, 3, 2, 4])]"
      ]
     },
     "execution_count": 4,
     "metadata": {},
     "output_type": "execute_result"
    }
   ],
   "source": [
    "group_pos = po_groups(po)\n",
    "group_nodes =[np.sort(np.unique(i)) for i in group_pos] #segment fixed node order\n",
    "nodes = np.arange(np.max(po)+1)\n",
    "\n",
    "get_phi(nodes, group_pos, group_nodes)"
   ]
  },
  {
   "cell_type": "code",
   "execution_count": 98,
   "id": "21c5b2ae-fd0a-42ff-93df-b7d1132b947d",
   "metadata": {},
   "outputs": [
    {
     "data": {
      "text/plain": [
       "[array([0, 1, 2, 3, 4]),\n",
       " array([0, 1, 2, 4, 3]),\n",
       " array([0, 1, 3, 2, 4]),\n",
       " array([0, 2, 1, 3, 4]),\n",
       " array([0, 2, 1, 4, 3]),\n",
       " array([1, 0, 2, 3, 4]),\n",
       " array([1, 0, 2, 4, 3]),\n",
       " array([1, 0, 3, 2, 4])]"
      ]
     },
     "execution_count": 98,
     "metadata": {},
     "output_type": "execute_result"
    }
   ],
   "source": [
    "#make identity the first index just as a rule of thumb if it's in there\n",
    "#swap it with index 0 (no if statement needed)\n",
    "phi"
   ]
  },
  {
   "cell_type": "code",
   "execution_count": 17,
   "id": "7f126f28-d84c-4b03-8e7f-52c033ec7fc8",
   "metadata": {},
   "outputs": [
    {
     "data": {
      "text/plain": [
       "[array([0, 1, 2, 3, 4]),\n",
       " array([0, 1, 2, 4, 3]),\n",
       " array([0, 1, 3, 2, 4]),\n",
       " array([0, 2, 1, 3, 4]),\n",
       " array([0, 2, 1, 4, 3]),\n",
       " array([1, 0, 2, 3, 4]),\n",
       " array([1, 0, 2, 4, 3]),\n",
       " array([1, 0, 3, 2, 4])]"
      ]
     },
     "execution_count": 17,
     "metadata": {},
     "output_type": "execute_result"
    }
   ],
   "source": [
    "phi_inv = [perm_inverse(i) for i in phi]\n",
    "phi_inv"
   ]
  },
  {
   "cell_type": "code",
   "execution_count": 21,
   "id": "db7f610c-952b-4110-9ed1-032c0991d3dc",
   "metadata": {},
   "outputs": [
    {
     "data": {
      "text/plain": [
       "array([0, 1, 2, 3, 4])"
      ]
     },
     "execution_count": 21,
     "metadata": {},
     "output_type": "execute_result"
    }
   ],
   "source": [
    "nodes[phi[0]][phi_inv[0]]"
   ]
  },
  {
   "cell_type": "code",
   "execution_count": 36,
   "id": "2923956d-bb7d-4ea7-a016-3045916386ce",
   "metadata": {},
   "outputs": [
    {
     "data": {
      "text/plain": [
       "True"
      ]
     },
     "execution_count": 36,
     "metadata": {},
     "output_type": "execute_result"
    }
   ],
   "source": [
    "lst = [1]\n",
    "np.isin(lst,1)[0]"
   ]
  },
  {
   "cell_type": "code",
   "execution_count": 61,
   "id": "6d3ede02-1cc9-456f-9fce-ef872fb6c953",
   "metadata": {},
   "outputs": [],
   "source": [
    "def filtrate(perm):\n",
    "    sd=[]\n",
    "    for i in range(len(perm)-1):\n",
    "        dif = perm[i+1]-perm[i]\n",
    "        sd.append(int((dif/np.abs(dif) + 1) / 2))\n",
    "    return tuple(sd)"
   ]
  },
  {
   "cell_type": "code",
   "execution_count": 96,
   "id": "d4c9d5f6-61a0-4c46-baac-f4360f58fb9e",
   "metadata": {},
   "outputs": [
    {
     "data": {
      "text/plain": [
       "array([[1, 1],\n",
       "       [0, 0],\n",
       "       [0, 0]])"
      ]
     },
     "execution_count": 96,
     "metadata": {},
     "output_type": "execute_result"
    }
   ],
   "source": [
    "# ex=np.array([1,2,3])\n",
    "# np.where(ex==1,ex,0)\n",
    "ex=np.array([(1,1),(2,2),(3,3)])\n",
    "#ex=[(1,1),(2,2),(3,3)]\n",
    "np.where(ex==(1,1),ex,0) #use index of\n",
    "#could make my own comparator that sorts by sum and breaks ties by index sum or something"
   ]
  },
  {
   "cell_type": "code",
   "execution_count": 82,
   "id": "e2f795ef-8307-4fac-bcec-e4601028c05b",
   "metadata": {},
   "outputs": [
    {
     "ename": "ValueError",
     "evalue": "either both or neither of x and y should be given",
     "output_type": "error",
     "traceback": [
      "\u001b[0;31m---------------------------------------------------------------------------\u001b[0m",
      "\u001b[0;31mValueError\u001b[0m                                Traceback (most recent call last)",
      "Cell \u001b[0;32mIn[82], line 1\u001b[0m\n\u001b[0;32m----> 1\u001b[0m \u001b[43mnp\u001b[49m\u001b[38;5;241;43m.\u001b[39;49m\u001b[43mwhere\u001b[49m\u001b[43m(\u001b[49m\u001b[43m(\u001b[49m\u001b[38;5;241;43m0\u001b[39;49m\u001b[43m,\u001b[49m\u001b[38;5;241;43m1\u001b[39;49m\u001b[43m,\u001b[49m\u001b[38;5;241;43m0\u001b[39;49m\u001b[43m,\u001b[49m\u001b[38;5;241;43m1\u001b[39;49m\u001b[43m)\u001b[49m\u001b[43m,\u001b[49m\u001b[38;5;28;43mlist\u001b[39;49m\u001b[43m(\u001b[49m\u001b[43mkeys\u001b[49m\u001b[43m)\u001b[49m\u001b[43m)\u001b[49m\n",
      "\u001b[0;31mValueError\u001b[0m: either both or neither of x and y should be given"
     ]
    }
   ],
   "source": [
    "np.where((0,1,0,1),list(keys))"
   ]
  },
  {
   "cell_type": "code",
   "execution_count": 73,
   "id": "595c3865-0de9-4e1d-bbf6-e2406ce37099",
   "metadata": {},
   "outputs": [
    {
     "name": "stdout",
     "output_type": "stream",
     "text": [
      "8\n",
      "[(1, 1, 1, 1), (1, 1, 1, 0), (1, 1, 0, 1), (1, 0, 1, 1), (1, 0, 1, 0), (0, 1, 1, 1), (0, 1, 1, 0), (0, 1, 0, 1), (1, 1, 1, 0), (1, 1, 1, 1), (1, 1, 0, 1), (1, 0, 1, 0), (1, 0, 1, 1), (0, 1, 1, 0), (0, 1, 1, 1), (0, 1, 0, 1), (1, 1, 0, 1), (1, 1, 1, 0), (1, 1, 1, 1), (1, 0, 1, 1), (1, 0, 1, 0), (0, 1, 0, 1), (0, 1, 1, 0), (0, 1, 1, 1), (1, 0, 1, 1), (1, 0, 1, 0), (1, 1, 0, 1), (1, 1, 1, 1), (1, 1, 1, 0), (0, 1, 1, 1), (0, 1, 1, 0), (0, 1, 0, 1), (1, 0, 1, 0), (1, 0, 1, 1), (1, 1, 0, 1), (1, 1, 1, 0), (1, 1, 1, 1), (0, 1, 1, 0), (0, 1, 1, 1), (0, 1, 0, 1), (0, 1, 1, 1), (0, 1, 1, 0), (0, 1, 0, 1), (1, 0, 1, 1), (1, 0, 1, 0), (1, 1, 1, 1), (1, 1, 1, 0), (1, 1, 0, 1), (0, 1, 1, 0), (0, 1, 1, 1), (0, 1, 0, 1), (1, 0, 1, 0), (1, 0, 1, 1), (1, 1, 1, 0), (1, 1, 1, 1), (1, 1, 0, 1), (0, 1, 0, 1), (0, 1, 1, 0), (0, 1, 1, 1), (1, 0, 1, 1), (1, 0, 1, 0), (1, 1, 0, 1), (1, 1, 1, 0), (1, 1, 1, 1)]\n",
      "{(0, 1, 0, 1): x_0, (0, 1, 1, 1): x_1, (1, 0, 1, 1): x_2, (1, 1, 1, 0): x_3, (0, 1, 1, 0): x_4, (1, 0, 1, 0): x_5, (1, 1, 0, 1): x_6, (1, 1, 1, 1): x_7}\n"
     ]
    },
    {
     "data": {
      "text/latex": [
       "$\\displaystyle \\left[\\begin{matrix}x_{7} & x_{3} & x_{6} & x_{2} & x_{5} & x_{1} & x_{4} & x_{0}\\\\x_{3} & x_{7} & x_{6} & x_{5} & x_{2} & x_{4} & x_{1} & x_{0}\\\\x_{6} & x_{3} & x_{7} & x_{2} & x_{5} & x_{0} & x_{4} & x_{1}\\\\x_{2} & x_{5} & x_{6} & x_{7} & x_{3} & x_{1} & x_{4} & x_{0}\\\\x_{5} & x_{2} & x_{6} & x_{3} & x_{7} & x_{4} & x_{1} & x_{0}\\\\x_{1} & x_{4} & x_{0} & x_{2} & x_{5} & x_{7} & x_{3} & x_{6}\\\\x_{4} & x_{1} & x_{0} & x_{5} & x_{2} & x_{3} & x_{7} & x_{6}\\\\x_{0} & x_{4} & x_{1} & x_{2} & x_{5} & x_{6} & x_{3} & x_{7}\\end{matrix}\\right]$"
      ],
      "text/plain": [
       "Matrix([\n",
       "[x_7, x_3, x_6, x_2, x_5, x_1, x_4, x_0],\n",
       "[x_3, x_7, x_6, x_5, x_2, x_4, x_1, x_0],\n",
       "[x_6, x_3, x_7, x_2, x_5, x_0, x_4, x_1],\n",
       "[x_2, x_5, x_6, x_7, x_3, x_1, x_4, x_0],\n",
       "[x_5, x_2, x_6, x_3, x_7, x_4, x_1, x_0],\n",
       "[x_1, x_4, x_0, x_2, x_5, x_7, x_3, x_6],\n",
       "[x_4, x_1, x_0, x_5, x_2, x_3, x_7, x_6],\n",
       "[x_0, x_4, x_1, x_2, x_5, x_6, x_3, x_7]])"
      ]
     },
     "execution_count": 73,
     "metadata": {},
     "output_type": "execute_result"
    }
   ],
   "source": [
    "import sympy as sp\n",
    "\n",
    "n=len(phi)\n",
    "s=sp.symbols(\"x_0:{}\".format(len(phi)))\n",
    "#uniques = []\n",
    "def genmat(phi, n, nodes):\n",
    "    A = [0]*(n*n)\n",
    "    for i in range(n):\n",
    "        for j in range(n):\n",
    "            A[n*i + j] = filtrate(tuple(nodes[phi[i]][phi_inv[j]])) #remember order of application\n",
    "            #if (!np.isin(uniques,A[n*i + j])[0]):\n",
    "    return A\n",
    "\n",
    "A = genmat(phi, n, nodes)\n",
    "print(len(set(A)))\n",
    "print(A)\n",
    "keys = set(A) # make 1111 x0 if it's in there\n",
    "subs = {k: v for k, v in zip(set(A), s)}\n",
    "print(subs)\n",
    "# print(np.unique(A))\n",
    "# # subs[A[0]]\n",
    "A = sp.Matrix([subs[i] for i in A]).reshape(n,n)\n",
    "A"
   ]
  },
  {
   "cell_type": "code",
   "execution_count": null,
   "id": "6cf92a54-7475-4dcc-b060-f3e4ad067c45",
   "metadata": {},
   "outputs": [],
   "source": [
    "A = genmat(ress, n, nodes)"
   ]
  },
  {
   "cell_type": "code",
   "execution_count": null,
   "id": "f3281bcd-548f-4094-a042-58296ecc57ca",
   "metadata": {},
   "outputs": [],
   "source": [
    "A = (([0]*(nodes-1))*np.array([[0] for i in range(n*n)])).reshape(n,n,nodes-1)"
   ]
  }
 ],
 "metadata": {
  "kernelspec": {
   "display_name": "Python 3 (ipykernel)",
   "language": "python",
   "name": "python3"
  },
  "language_info": {
   "codemirror_mode": {
    "name": "ipython",
    "version": 3
   },
   "file_extension": ".py",
   "mimetype": "text/x-python",
   "name": "python",
   "nbconvert_exporter": "python",
   "pygments_lexer": "ipython3",
   "version": "3.12.4"
  }
 },
 "nbformat": 4,
 "nbformat_minor": 5
}
