{
 "cells": [
  {
   "cell_type": "code",
   "execution_count": 1,
   "id": "caef0dbf",
   "metadata": {},
   "outputs": [],
   "source": [
    "from fgen import *"
   ]
  },
  {
   "cell_type": "code",
   "execution_count": 11,
   "id": "ffa53ba0-3985-4e30-bd31-db25162fd370",
   "metadata": {},
   "outputs": [
    {
     "name": "stdout",
     "output_type": "stream",
     "text": [
      "[    1     2     3     5     8    13    21    34    55    89   144   233\n",
      "   377   610   987  1597  2584  4181  6765 10946]\n"
     ]
    }
   ],
   "source": [
    "terms = 20 \n",
    "fib = np.array([1]*terms)\n",
    "for i in range(1,terms):\n",
    "    fib[i] = fib[i-1]+fib[i-2]\n",
    "print(fib)\n",
    "fibt=dict(zip(*[fib, np.arange(terms)]))"
   ]
  },
  {
   "cell_type": "code",
   "execution_count": 10,
   "id": "ae8081a6",
   "metadata": {},
   "outputs": [
    {
     "name": "stdout",
     "output_type": "stream",
     "text": [
      "n:  8  indexes:  [5]  symbols:  (x_0, x_1, x_2, x_3, x_4, x_5, x_6, x_7)  nodes:  5\n",
      "[5, 0]\n",
      "partial order:  [1, 3, 1, 4, 2, 4, 2, 5, 3, 5] relations:  5.0\n"
     ]
    },
    {
     "data": {
      "text/plain": [
       "[[1, 0, 1, 0],\n",
       " [1, 0, 1, 1],\n",
       " [1, 1, 0, 1],\n",
       " [1, 1, 1, 0],\n",
       " [1, 1, 1, 1],\n",
       " [0, 1, 0, 1],\n",
       " [0, 1, 1, 0],\n",
       " [0, 1, 1, 1]]"
      ]
     },
     "execution_count": 10,
     "metadata": {},
     "output_type": "execute_result"
    }
   ],
   "source": [
    "#user input: dfac (a list of fibonacci terms, whose product is the matrix dimension)\n",
    "dfac=[8]\n",
    "n=np.prod(dfac)\n",
    "s=sp.symbols(\"x_0:{}\".format(n))\n",
    "fac=[fibt[i]+1 for i in dfac]\n",
    "nodes = np.sum(fac)\n",
    "po = get_po(fac)\n",
    "print(\"n: \", n, \" indexes: \", fac, \" symbols: \", s, \" nodes: \", nodes)\n",
    "print(\"partial order: \", po, \"relations: \", len(po)/2)\n",
    "ress=rebuildlists(nodes-1)"
   ]
  },
  {
   "cell_type": "code",
   "execution_count": 5,
   "id": "d841ffcc-e31a-449d-920a-95864cfeaeb9",
   "metadata": {},
   "outputs": [],
   "source": [
    "#rescheck is the ordering that generated our 8x8 matrix. Using ress, the row-columns will be permuted (but evals should be same)\n",
    "rescheck = [[1,1,1,1],[1,1,1,0],[1,1,0,1],[1,0,1,1],[1,0,1,0],[0,1,1,1],[0,1,1,0],[0,1,0,1]]\n",
    "A = genmat(ress, n, nodes)"
   ]
  },
  {
   "cell_type": "code",
   "execution_count": 6,
   "id": "5696efa0-9106-43df-80bb-bcf27239264b",
   "metadata": {},
   "outputs": [
    {
     "data": {
      "text/latex": [
       "$\\displaystyle \\left[\\begin{matrix}x_{4} & x_{3} & x_{2} & x_{1} & x_{0} & x_{5} & x_{7} & x_{6}\\\\x_{3} & x_{4} & x_{2} & x_{0} & x_{1} & x_{5} & x_{6} & x_{7}\\\\x_{0} & x_{1} & x_{4} & x_{3} & x_{2} & x_{7} & x_{6} & x_{5}\\\\x_{1} & x_{0} & x_{2} & x_{4} & x_{3} & x_{5} & x_{7} & x_{6}\\\\x_{0} & x_{1} & x_{2} & x_{3} & x_{4} & x_{5} & x_{6} & x_{7}\\\\x_{0} & x_{1} & x_{7} & x_{6} & x_{5} & x_{4} & x_{3} & x_{2}\\\\x_{1} & x_{0} & x_{5} & x_{7} & x_{6} & x_{2} & x_{4} & x_{3}\\\\x_{0} & x_{1} & x_{5} & x_{6} & x_{7} & x_{2} & x_{3} & x_{4}\\end{matrix}\\right]$"
      ],
      "text/plain": [
       "Matrix([\n",
       "[x_4, x_3, x_2, x_1, x_0, x_5, x_7, x_6],\n",
       "[x_3, x_4, x_2, x_0, x_1, x_5, x_6, x_7],\n",
       "[x_0, x_1, x_4, x_3, x_2, x_7, x_6, x_5],\n",
       "[x_1, x_0, x_2, x_4, x_3, x_5, x_7, x_6],\n",
       "[x_0, x_1, x_2, x_3, x_4, x_5, x_6, x_7],\n",
       "[x_0, x_1, x_7, x_6, x_5, x_4, x_3, x_2],\n",
       "[x_1, x_0, x_5, x_7, x_6, x_2, x_4, x_3],\n",
       "[x_0, x_1, x_5, x_6, x_7, x_2, x_3, x_4]])"
      ]
     },
     "execution_count": 6,
     "metadata": {},
     "output_type": "execute_result"
    }
   ],
   "source": [
    "subs = {k: v for k, v in zip([tuple(i) for i in ress], s)}\n",
    "A = sp.Matrix([subs[i] for i in A]).reshape(n,n)\n",
    "A"
   ]
  }
 ],
 "metadata": {
  "kernelspec": {
   "display_name": "Python (myenv)",
   "language": "python",
   "name": "myenv"
  },
  "language_info": {
   "codemirror_mode": {
    "name": "ipython",
    "version": 3
   },
   "file_extension": ".py",
   "mimetype": "text/x-python",
   "name": "python",
   "nbconvert_exporter": "python",
   "pygments_lexer": "ipython3",
   "version": "3.12.4"
  }
 },
 "nbformat": 4,
 "nbformat_minor": 5
}
