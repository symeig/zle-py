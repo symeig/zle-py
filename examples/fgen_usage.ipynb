{
 "cells": [
  {
   "cell_type": "code",
   "execution_count": 1,
   "id": "caef0dbf",
   "metadata": {},
   "outputs": [],
   "source": [
    "from fgen import *\n",
    "#import pickle"
   ]
  },
  {
   "cell_type": "code",
   "execution_count": 2,
   "id": "ffa53ba0-3985-4e30-bd31-db25162fd370",
   "metadata": {},
   "outputs": [
    {
     "name": "stdout",
     "output_type": "stream",
     "text": [
      "[    1     2     3     5     8    13    21    34    55    89   144   233\n",
      "   377   610   987  1597  2584  4181  6765 10946]\n"
     ]
    }
   ],
   "source": [
    "terms = 20 \n",
    "fib = np.array([1]*terms)\n",
    "for i in range(1,terms):\n",
    "    fib[i] = fib[i-1]+fib[i-2]\n",
    "print(fib)\n",
    "fibt=dict(zip(*[fib, np.arange(terms)]))"
   ]
  },
  {
   "cell_type": "code",
   "execution_count": 3,
   "id": "ae8081a6",
   "metadata": {},
   "outputs": [],
   "source": [
    "#user input: dfac (a list of fibonacci terms, whose product is the matrix dimension)\n",
    "dfac=[3,2,2]"
   ]
  },
  {
   "cell_type": "code",
   "execution_count": 4,
   "id": "96fb5848-38ab-4eba-9bde-5ceefa2d8dd4",
   "metadata": {},
   "outputs": [
    {
     "name": "stdout",
     "output_type": "stream",
     "text": [
      "[3, 2, 2] 3\n",
      "[3, 2, 2]\n",
      "0 1\n"
     ]
    },
    {
     "data": {
      "text/plain": [
       "[[1, 0, 1, 1, 1, 1],\n",
       " [1, 0, 1, 1, 1, 0],\n",
       " [1, 0, 1, 0, 1, 1],\n",
       " [1, 0, 1, 0, 1, 0],\n",
       " [1, 1, 1, 1, 1, 1],\n",
       " [1, 1, 1, 1, 1, 0],\n",
       " [1, 1, 1, 0, 1, 1],\n",
       " [1, 1, 1, 0, 1, 0],\n",
       " [0, 1, 1, 1, 1, 1],\n",
       " [0, 1, 1, 1, 1, 0],\n",
       " [0, 1, 1, 0, 1, 1],\n",
       " [0, 1, 1, 0, 1, 0]]"
      ]
     },
     "execution_count": 4,
     "metadata": {},
     "output_type": "execute_result"
    }
   ],
   "source": [
    "#prepare matrix\n",
    "n=np.prod(dfac)\n",
    "fac=[fibt[i]+1 for i in dfac]\n",
    "print(fac, len(fac))\n",
    "nodes = np.sum(fac)\n",
    "po = get_po(fac)\n",
    "ress = adfunc(fac)\n",
    "A = fgenmat(ress, n, nodes)\n",
    "A = fsymsub(A,n,nodes, [tuple(i) for i in ress])"
   ]
  },
  {
   "cell_type": "code",
   "execution_count": 7,
   "id": "c3edcea5-0109-45c4-a8af-496c87a30f37",
   "metadata": {},
   "outputs": [
    {
     "data": {
      "text/latex": [
       "$\\displaystyle \\left[\\begin{array}{cccccccccccc}x_{0} & x_{5} & x_{6} & x_{7} & x_{4} & x_{1} & x_{2} & x_{3} & x_{8} & x_{9} & x_{10} & x_{11}\\\\x_{5} & x_{0} & x_{7} & x_{6} & x_{1} & x_{4} & x_{3} & x_{2} & x_{9} & x_{8} & x_{11} & x_{10}\\\\x_{6} & x_{7} & x_{0} & x_{5} & x_{2} & x_{3} & x_{4} & x_{1} & x_{10} & x_{11} & x_{8} & x_{9}\\\\x_{7} & x_{6} & x_{5} & x_{0} & x_{3} & x_{2} & x_{1} & x_{4} & x_{11} & x_{10} & x_{9} & x_{8}\\\\x_{4} & x_{1} & x_{2} & x_{3} & x_{0} & x_{5} & x_{6} & x_{7} & x_{8} & x_{9} & x_{10} & x_{11}\\\\x_{1} & x_{4} & x_{3} & x_{2} & x_{5} & x_{0} & x_{7} & x_{6} & x_{9} & x_{8} & x_{11} & x_{10}\\\\x_{2} & x_{3} & x_{4} & x_{1} & x_{6} & x_{7} & x_{0} & x_{5} & x_{10} & x_{11} & x_{8} & x_{9}\\\\x_{3} & x_{2} & x_{1} & x_{4} & x_{7} & x_{6} & x_{5} & x_{0} & x_{11} & x_{10} & x_{9} & x_{8}\\\\x_{4} & x_{1} & x_{2} & x_{3} & x_{8} & x_{9} & x_{10} & x_{11} & x_{0} & x_{5} & x_{6} & x_{7}\\\\x_{1} & x_{4} & x_{3} & x_{2} & x_{9} & x_{8} & x_{11} & x_{10} & x_{5} & x_{0} & x_{7} & x_{6}\\\\x_{2} & x_{3} & x_{4} & x_{1} & x_{10} & x_{11} & x_{8} & x_{9} & x_{6} & x_{7} & x_{0} & x_{5}\\\\x_{3} & x_{2} & x_{1} & x_{4} & x_{11} & x_{10} & x_{9} & x_{8} & x_{7} & x_{6} & x_{5} & x_{0}\\end{array}\\right]$"
      ],
      "text/plain": [
       "Matrix([\n",
       "[x_0, x_5, x_6, x_7,  x_4,  x_1,  x_2,  x_3,  x_8,  x_9, x_10, x_11],\n",
       "[x_5, x_0, x_7, x_6,  x_1,  x_4,  x_3,  x_2,  x_9,  x_8, x_11, x_10],\n",
       "[x_6, x_7, x_0, x_5,  x_2,  x_3,  x_4,  x_1, x_10, x_11,  x_8,  x_9],\n",
       "[x_7, x_6, x_5, x_0,  x_3,  x_2,  x_1,  x_4, x_11, x_10,  x_9,  x_8],\n",
       "[x_4, x_1, x_2, x_3,  x_0,  x_5,  x_6,  x_7,  x_8,  x_9, x_10, x_11],\n",
       "[x_1, x_4, x_3, x_2,  x_5,  x_0,  x_7,  x_6,  x_9,  x_8, x_11, x_10],\n",
       "[x_2, x_3, x_4, x_1,  x_6,  x_7,  x_0,  x_5, x_10, x_11,  x_8,  x_9],\n",
       "[x_3, x_2, x_1, x_4,  x_7,  x_6,  x_5,  x_0, x_11, x_10,  x_9,  x_8],\n",
       "[x_4, x_1, x_2, x_3,  x_8,  x_9, x_10, x_11,  x_0,  x_5,  x_6,  x_7],\n",
       "[x_1, x_4, x_3, x_2,  x_9,  x_8, x_11, x_10,  x_5,  x_0,  x_7,  x_6],\n",
       "[x_2, x_3, x_4, x_1, x_10, x_11,  x_8,  x_9,  x_6,  x_7,  x_0,  x_5],\n",
       "[x_3, x_2, x_1, x_4, x_11, x_10,  x_9,  x_8,  x_7,  x_6,  x_5,  x_0]])"
      ]
     },
     "execution_count": 7,
     "metadata": {},
     "output_type": "execute_result"
    }
   ],
   "source": [
    "A"
   ]
  },
  {
   "cell_type": "code",
   "execution_count": null,
   "id": "c1980377-e46a-4213-b317-a0314b0a2c4b",
   "metadata": {},
   "outputs": [],
   "source": [
    "#export\n",
    "with open('/path_to_write_to/mat.pickle', 'wb') as outf:\n",
    "    outf.write(pickle.dumps(A))"
   ]
  },
  {
   "cell_type": "code",
   "execution_count": null,
   "id": "7d39e87d-84e2-4178-aa3b-3363125a5e16",
   "metadata": {},
   "outputs": [],
   "source": [
    "#import\n",
    "with open('/path_you_wrote_to/mat.pickle', 'rb') as inf:\n",
    "    A = pickle.loads(inf.read())\n",
    "    print(A)"
   ]
  }
 ],
 "metadata": {
  "kernelspec": {
   "display_name": "Python (myenv)",
   "language": "python",
   "name": "myenv"
  },
  "language_info": {
   "codemirror_mode": {
    "name": "ipython",
    "version": 3
   },
   "file_extension": ".py",
   "mimetype": "text/x-python",
   "name": "python",
   "nbconvert_exporter": "python",
   "pygments_lexer": "ipython3",
   "version": "3.12.4"
  }
 },
 "nbformat": 4,
 "nbformat_minor": 5
}
