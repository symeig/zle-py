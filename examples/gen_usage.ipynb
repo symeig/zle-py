{
 "cells": [
  {
   "cell_type": "code",
   "execution_count": 1,
   "id": "fcca97c5",
   "metadata": {},
   "outputs": [],
   "source": [
    "from gen import *"
   ]
  },
  {
   "cell_type": "code",
   "execution_count": 2,
   "id": "cd82c75f",
   "metadata": {},
   "outputs": [
    {
     "name": "stdout",
     "output_type": "stream",
     "text": [
      "[0 1 1 2 1 3 2 4 3 5 6 2 6 4 0 3 7 8]\n"
     ]
    }
   ],
   "source": [
    "#(1) define partial order (example w/ 2 disconnected components)\n",
    "po = np.array([1,2,2,3,2,4,3,5,4,6,7,3, 7,5,1,4,  8,9])-1 #10,11\n",
    "print(po)"
   ]
  },
  {
   "cell_type": "code",
   "execution_count": 2,
   "id": "5d2bc10d",
   "metadata": {},
   "outputs": [
    {
     "name": "stdout",
     "output_type": "stream",
     "text": [
      "[0 2 0 3 1 3 1 4 2 4]\n"
     ]
    }
   ],
   "source": [
    "#n=8 partial order\n",
    "po=np.array([1, 3, 1, 4, 2, 4, 2, 5, 3, 5])-1\n",
    "print(po)"
   ]
  },
  {
   "cell_type": "code",
   "execution_count": 3,
   "id": "0662e02b-61e8-4305-ac82-ff6ae5774402",
   "metadata": {},
   "outputs": [
    {
     "data": {
      "image/png": "[encoded data removed]",
      "text/plain": [
       "<Figure size 500x300 with 1 Axes>"
      ]
     },
     "metadata": {},
     "output_type": "display_data"
    }
   ],
   "source": [
    "#visualize (optional)\n",
    "graph = edges_to_adjacency_list(po)\n",
    "graph_comps = [edges_to_adjacency_list(i) for i in po_groups(po)] #list(map(lambda i: edges_to_adjacency_list(i), po_sorted))\n",
    "visualize_graph(graph, (5,3))"
   ]
  },
  {
   "cell_type": "code",
   "execution_count": 4,
   "id": "95b9f812-a5c2-40b6-aaf5-6befadb279f7",
   "metadata": {},
   "outputs": [
    {
     "name": "stdout",
     "output_type": "stream",
     "text": [
      "fixed-order (1..n) permutations:  12 [[0, 1, 2, 3, 4, 5, 6, 7, 8], [0, 1, 2, 3, 4, 6, 5, 7, 8], [0, 1, 2, 4, 3, 5, 6, 7, 8], [0, 1, 2, 4, 3, 6, 5, 7, 8], [0, 2, 1, 3, 4, 5, 6, 7, 8], [0, 2, 1, 3, 4, 6, 5, 7, 8], [0, 2, 1, 4, 3, 5, 6, 7, 8], [0, 2, 1, 4, 3, 6, 5, 7, 8], [1, 0, 2, 3, 4, 5, 6, 7, 8], [1, 0, 2, 3, 4, 6, 5, 7, 8], [1, 0, 2, 4, 3, 5, 6, 7, 8], [1, 0, 2, 4, 3, 6, 5, 7, 8]]\n",
      "node labels (up to combination):  36 [[0, 1, 2, 3, 4, 5, 6, 7, 8], [0, 1, 2, 3, 4, 5, 7, 6, 8], [0, 1, 2, 3, 4, 5, 8, 6, 7]]\n"
     ]
    }
   ],
   "source": [
    "group_pos = po_groups(po)\n",
    "group_nodes =[np.sort(np.unique(i)) for i in group_pos] #segment fixed node order\n",
    "nodes = np.arange(np.max(po)+1)\n",
    "\n",
    "phi = get_phi(nodes, group_pos, group_nodes) #prints=True if you want a better idea of how it works!\n",
    "n=len(phi)\n",
    "A = genmat(phi,n,nodes)\n",
    "A = symsub(A,n,nodes)\n",
    "\n",
    "# # phi_inv = [perm_inverse(i) for i in phi]\n",
    "# n=len(phi)\n",
    "# s=sp.symbols(\"x_0:{}\".format(n))\n",
    "# A = genmat(phi, n, nodes)\n",
    "# print(len(set(A)))\n",
    "# print(A)\n",
    "# keys = set(A) # make 1111 x0 if it's in there\n",
    "# subs = {k: v for k, v in zip(set(A), s)}\n",
    "# print(subs)\n",
    "# # print(np.unique(A))\n",
    "# # # subs[A[0]]\n",
    "# A = sp.Matrix([subs[i] for i in A]).reshape(n,n)\n",
    "# A\n",
    "\n",
    "# phi"
   ]
  },
  {
   "cell_type": "code",
   "execution_count": 5,
   "id": "d247fc01-d993-49b1-9ee2-25c2dc8a62c6",
   "metadata": {},
   "outputs": [
    {
     "data": {
      "text/latex": [
       "$\\displaystyle \\left[\\begin{matrix}x_{7} & x_{3} & x_{6} & x_{2} & x_{5} & x_{1} & x_{4} & x_{0}\\\\x_{3} & x_{7} & x_{6} & x_{5} & x_{2} & x_{4} & x_{1} & x_{0}\\\\x_{6} & x_{3} & x_{7} & x_{2} & x_{5} & x_{0} & x_{4} & x_{1}\\\\x_{2} & x_{5} & x_{6} & x_{7} & x_{3} & x_{1} & x_{4} & x_{0}\\\\x_{5} & x_{2} & x_{6} & x_{3} & x_{7} & x_{4} & x_{1} & x_{0}\\\\x_{1} & x_{4} & x_{0} & x_{2} & x_{5} & x_{7} & x_{3} & x_{6}\\\\x_{4} & x_{1} & x_{0} & x_{5} & x_{2} & x_{3} & x_{7} & x_{6}\\\\x_{0} & x_{4} & x_{1} & x_{2} & x_{5} & x_{6} & x_{3} & x_{7}\\end{matrix}\\right]$"
      ],
      "text/plain": [
       "Matrix([\n",
       "[x_7, x_3, x_6, x_2, x_5, x_1, x_4, x_0],\n",
       "[x_3, x_7, x_6, x_5, x_2, x_4, x_1, x_0],\n",
       "[x_6, x_3, x_7, x_2, x_5, x_0, x_4, x_1],\n",
       "[x_2, x_5, x_6, x_7, x_3, x_1, x_4, x_0],\n",
       "[x_5, x_2, x_6, x_3, x_7, x_4, x_1, x_0],\n",
       "[x_1, x_4, x_0, x_2, x_5, x_7, x_3, x_6],\n",
       "[x_4, x_1, x_0, x_5, x_2, x_3, x_7, x_6],\n",
       "[x_0, x_4, x_1, x_2, x_5, x_6, x_3, x_7]])"
      ]
     },
     "execution_count": 5,
     "metadata": {},
     "output_type": "execute_result"
    }
   ],
   "source": [
    "#note: trying to display very large symbolic matrices will make your computer sad :)\n",
    "A"
   ]
  }
 ],
 "metadata": {
  "kernelspec": {
   "display_name": "Python 3 (ipykernel)",
   "language": "python",
   "name": "python3"
  },
  "language_info": {
   "codemirror_mode": {
    "name": "ipython",
    "version": 3
   },
   "file_extension": ".py",
   "mimetype": "text/x-python",
   "name": "python",
   "nbconvert_exporter": "python",
   "pygments_lexer": "ipython3",
   "version": "3.12.4"
  }
 },
 "nbformat": 4,
 "nbformat_minor": 5
}
