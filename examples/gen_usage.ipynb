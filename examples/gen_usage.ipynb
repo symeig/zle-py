{
 "cells": [
  {
   "cell_type": "code",
   "execution_count": 1,
   "id": "fcca97c5",
   "metadata": {},
   "outputs": [],
   "source": [
    "from gen import *\n",
    "from matplotlib import pyplot as plt\n",
    "import networkx as nx"
   ]
  },
  {
   "cell_type": "code",
   "execution_count": 2,
   "id": "65dd08b1-4162-40b1-991c-aaddaff8ad09",
   "metadata": {},
   "outputs": [],
   "source": [
    "def visualize_graph(graph, size=(5, 4)):\n",
    "    G = nx.DiGraph()\n",
    "    for node, neighbors in graph.items():\n",
    "        for neighbor in neighbors:\n",
    "            G.add_edge(node, neighbor)\n",
    "        if node not in G:\n",
    "            G.add_node(node)\n",
    "    \n",
    "    pos = nx.spring_layout(G)\n",
    "    plt.figure(figsize=size)\n",
    "    nx.draw(G, pos, with_labels=True, node_size=500, node_color=\"lightblue\", font_size=10, font_color=\"black\", edge_color=\"gray\", arrowsize=20)\n",
    "    plt.show()"
   ]
  },
  {
   "cell_type": "code",
   "execution_count": null,
   "id": "cd82c75f",
   "metadata": {},
   "outputs": [],
   "source": [
    "#(1) define partial order (example w/ 2 disconnected components, yielding a 792*792 matrix)\n",
    "po = np.array([1,2,2,3,2,4,3,5,4,6,7,3, 7,5,1,4,  8,9])-1 #10,11\n",
    "print(po)"
   ]
  },
  {
   "cell_type": "code",
   "execution_count": 3,
   "id": "5d2bc10d",
   "metadata": {},
   "outputs": [
    {
     "name": "stdout",
     "output_type": "stream",
     "text": [
      "[0 2 0 3 1 3 1 4 2 4]\n"
     ]
    }
   ],
   "source": [
    "#n=8 example (dfac=[8] from fgen)\n",
    "po=np.array([1, 3, 1, 4, 2, 4, 2, 5, 3, 5])-1\n",
    "print(po)"
   ]
  },
  {
   "cell_type": "code",
   "execution_count": 5,
   "id": "0662e02b-61e8-4305-ac82-ff6ae5774402",
   "metadata": {},
   "outputs": [
    {
     "data": {
      "image/png": "[encoded data removed]",
      "text/plain": [
       "<Figure size 500x300 with 1 Axes>"
      ]
     },
     "metadata": {},
     "output_type": "display_data"
    }
   ],
   "source": [
    "#visualize (optional)\n",
    "graph = edges_to_adjacency_list(po)\n",
    "graph_comps = [edges_to_adjacency_list(i) for i in po_groups(po)] #list(map(lambda i: edges_to_adjacency_list(i), po_sorted))\n",
    "visualize_graph(graph, (5,3))"
   ]
  },
  {
   "cell_type": "code",
   "execution_count": 6,
   "id": "95b9f812-a5c2-40b6-aaf5-6befadb279f7",
   "metadata": {},
   "outputs": [
    {
     "name": "stdout",
     "output_type": "stream",
     "text": [
      "fixed-order (1..n) permutations:  8 [[0, 1, 2, 3, 4], [0, 1, 2, 4, 3], [0, 1, 3, 2, 4], [0, 2, 1, 3, 4], [0, 2, 1, 4, 3], [1, 0, 2, 3, 4], [1, 0, 2, 4, 3], [1, 0, 3, 2, 4]]\n",
      "node labels (up to combination):  1 [[0, 1, 2, 3, 4]]\n"
     ]
    }
   ],
   "source": [
    "group_pos = po_groups(po)\n",
    "group_nodes =[np.sort(np.unique(i)) for i in group_pos] #segment fixed node order\n",
    "nodes = np.arange(np.max(po)+1)\n",
    "\n",
    "phi = get_phi(nodes, group_pos, group_nodes, prints=True) #if you want a better idea of how it works!\n",
    "n=len(phi)\n",
    "A = genmat(phi,n,nodes)\n",
    "A = symsub(A,n,nodes)"
   ]
  },
  {
   "cell_type": "code",
   "execution_count": 7,
   "id": "d247fc01-d993-49b1-9ee2-25c2dc8a62c6",
   "metadata": {},
   "outputs": [
    {
     "data": {
      "text/latex": [
       "$\\displaystyle \\left[\\begin{matrix}x_{7} & x_{3} & x_{6} & x_{2} & x_{5} & x_{1} & x_{4} & x_{0}\\\\x_{3} & x_{7} & x_{6} & x_{5} & x_{2} & x_{4} & x_{1} & x_{0}\\\\x_{6} & x_{3} & x_{7} & x_{2} & x_{5} & x_{0} & x_{4} & x_{1}\\\\x_{2} & x_{5} & x_{6} & x_{7} & x_{3} & x_{1} & x_{4} & x_{0}\\\\x_{5} & x_{2} & x_{6} & x_{3} & x_{7} & x_{4} & x_{1} & x_{0}\\\\x_{1} & x_{4} & x_{0} & x_{2} & x_{5} & x_{7} & x_{3} & x_{6}\\\\x_{4} & x_{1} & x_{0} & x_{5} & x_{2} & x_{3} & x_{7} & x_{6}\\\\x_{0} & x_{4} & x_{1} & x_{2} & x_{5} & x_{6} & x_{3} & x_{7}\\end{matrix}\\right]$"
      ],
      "text/plain": [
       "Matrix([\n",
       "[x_7, x_3, x_6, x_2, x_5, x_1, x_4, x_0],\n",
       "[x_3, x_7, x_6, x_5, x_2, x_4, x_1, x_0],\n",
       "[x_6, x_3, x_7, x_2, x_5, x_0, x_4, x_1],\n",
       "[x_2, x_5, x_6, x_7, x_3, x_1, x_4, x_0],\n",
       "[x_5, x_2, x_6, x_3, x_7, x_4, x_1, x_0],\n",
       "[x_1, x_4, x_0, x_2, x_5, x_7, x_3, x_6],\n",
       "[x_4, x_1, x_0, x_5, x_2, x_3, x_7, x_6],\n",
       "[x_0, x_4, x_1, x_2, x_5, x_6, x_3, x_7]])"
      ]
     },
     "execution_count": 7,
     "metadata": {},
     "output_type": "execute_result"
    }
   ],
   "source": [
    "#note: trying to display very large symbolic matrices will make your computer sad :)\n",
    "A"
   ]
  }
 ],
 "metadata": {
  "kernelspec": {
   "display_name": "Python 3 (ipykernel)",
   "language": "python",
   "name": "python3"
  },
  "language_info": {
   "codemirror_mode": {
    "name": "ipython",
    "version": 3
   },
   "file_extension": ".py",
   "mimetype": "text/x-python",
   "name": "python",
   "nbconvert_exporter": "python",
   "pygments_lexer": "ipython3",
   "version": "3.12.4"
  }
 },
 "nbformat": 4,
 "nbformat_minor": 5
}
